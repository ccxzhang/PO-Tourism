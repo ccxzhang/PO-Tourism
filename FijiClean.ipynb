{
 "cells": [
  {
   "cell_type": "code",
   "execution_count": 1,
   "id": "1a4eaf03",
   "metadata": {},
   "outputs": [],
   "source": [
    "import os\n",
    "import pandas as pd\n",
    "import numpy as np\n",
    "import math\n",
    "import pdfplumber\n",
    "import pandas as pd\n",
    "from collections import defaultdict\n",
    "import datetime\n",
    "import seaborn as sns\n",
    "import matplotlib.pyplot as plt"
   ]
  },
  {
   "cell_type": "code",
   "execution_count": 2,
   "id": "0a03a542",
   "metadata": {},
   "outputs": [
    {
     "data": {
      "text/plain": [
       "['Data/Fiji/Visitor-Arrivals-Tables.xlsx',\n",
       " 'Data/Fiji/.DS_Store',\n",
       " 'Data/Fiji/Seasonally-Adjusted-Visitor-Arrivals.xlsx',\n",
       " 'Data/Fiji/10.7_Per-Diem-Expenditure-and-Earnings-from-Tourism.pdf',\n",
       " 'Data/Fiji/3.16_Guestnight-by-Country-of-Residence.pdf',\n",
       " 'Data/Fiji/10.2_Visitor-Arrival-by-Country-of-Residence.pdf']"
      ]
     },
     "execution_count": 2,
     "metadata": {},
     "output_type": "execute_result"
    }
   ],
   "source": [
    "listdir = [\"Data/fiji/\" + i for i in os.listdir(\"Data/Fiji/\")]\n",
    "listdir"
   ]
  },
  {
   "cell_type": "code",
   "execution_count": 3,
   "id": "5dbab641",
   "metadata": {},
   "outputs": [],
   "source": [
    "raw_t1 = pd.read_excel(listdir[0], sheet_name=\"T1\", usecols=\"B:N\")       \n",
    "\n",
    "colnames_t1 = list()\n",
    "for name in raw_t1.iloc[4].to_list():\n",
    "    if type(name) == str:\n",
    "        name = name.strip().lower()\n",
    "        colnames_t1.append(name)\n",
    "    else:\n",
    "        colnames_t1.append(\"month\")\n",
    "raw_t1.columns = colnames_t1\n",
    "\n",
    "fiji_t1 = (raw_t1.dropna(axis=\"columns\", how=\"all\")\n",
    "          .iloc[5:-2].dropna(axis=0, how=\"all\")\n",
    "          .reset_index()\n",
    "          .drop(\"index\", axis=1)) "
   ]
  },
  {
   "cell_type": "code",
   "execution_count": 4,
   "id": "c0a11b89",
   "metadata": {},
   "outputs": [],
   "source": [
    "def transform_dates(df: pd.DataFrame,\n",
    "                    year_column: str,\n",
    "                    start_year: int,\n",
    "                    month_column: str):\n",
    "    year_lst, dates = list(), list()\n",
    "\n",
    "    for idx, val in enumerate(df[year_column].to_list()):\n",
    "        year = (idx // 12) + start_year\n",
    "        year_lst.append(year)\n",
    "    df[\"year\"] = year_lst\n",
    "\n",
    "    for idx in df.index:\n",
    "        month_raw = df[month_column][idx]\n",
    "        if type(month_raw) is str:\n",
    "            month = datetime.datetime.strptime(month_raw.strip(), \"%B\").month\n",
    "            if month < 10:\n",
    "                month = str(0) + str(month)\n",
    "            year = df[\"year\"][idx]\n",
    "            dates.append(str(year) + \"-\" + str(month) + \"-01\")\n",
    "    df[\"dates\"] = dates"
   ]
  },
  {
   "cell_type": "code",
   "execution_count": 5,
   "id": "d634a4f7",
   "metadata": {},
   "outputs": [],
   "source": [
    "# Yearly data to 2020\n",
    "fiji_t1_yearly = (fiji_t1.iloc[0:5, [0, 3, 4]]\n",
    "                  .rename({\"year/month\": \"year\"}, axis=1))\n",
    "\n",
    "fiji_t1_yearly.to_csv(\"output/fj_num_visitors_yearly_17_21.csv\",\n",
    "                      encoding=\"utf-8\")\n",
    "\n",
    "\n",
    "# Monthly data from 2020\n",
    "visitor_t1 = (fiji_t1.iloc[5:, [0, 1, 3, 4]]\n",
    "              .reset_index()\n",
    "              .drop(\"index\", axis=1))\n",
    "\n",
    "transform_dates(visitor_t1, \"year/month\", 2020, \"month\")\n",
    "visitor_t1.to_csv(\"output/fj_num_visitors.csv\", encoding=\"utf-8\")"
   ]
  },
  {
   "cell_type": "code",
   "execution_count": 6,
   "id": "c153130e",
   "metadata": {
    "scrolled": false
   },
   "outputs": [],
   "source": [
    "raw_t2 = (pd.read_excel(listdir[0], sheet_name=\"T2\", usecols=\"A:Q\")\n",
    "          .dropna(axis=0, how=\"all\")\n",
    "          .reset_index()\n",
    "          .drop(\"index\", axis=1))\n",
    "\n",
    "colnames_t2 = list()\n",
    "for name1, name2 in zip(raw_t2.iloc[2].to_list(), raw_t2.iloc[3].to_list()):\n",
    "    if type(name1) == str:\n",
    "        wholename = name1.lower().strip() + name2.lower().strip()\n",
    "        colnames_t2.append(wholename)\n",
    "    else:\n",
    "        if type(name2) == str:\n",
    "            colnames_t2.append(name2.lower().strip())\n",
    "        else:\n",
    "            colnames_t2.append(\"month\")\n",
    "raw_t2.columns = colnames_t2\n",
    "\n",
    "fiji_t2_yearly = (raw_t2.iloc[4:9]\n",
    "                  .reset_index()\n",
    "                  .drop(\"index\", axis=1))\n",
    "\n",
    "fiji_t2_yearly.to_csv(\"output/fj_num_visitors_by_origin_17_21.csv\", \n",
    "                      encoding=\"utf-8\")"
   ]
  },
  {
   "cell_type": "code",
   "execution_count": 7,
   "id": "f92fb9fd",
   "metadata": {},
   "outputs": [],
   "source": [
    "fiji_t2 = (raw_t2.dropna(axis=\"columns\", how=\"all\")\n",
    "           .iloc[9:-2].dropna(axis=0, how=\"all\")\n",
    "           .reset_index()\n",
    "           .drop(\"index\", axis=1))\n",
    "transform_dates(fiji_t2, \"year/month\", 2020, \"month\")\n",
    "fiji_t2 = fiji_t2.drop([\"year/month\", \"month\"], axis=1)\n",
    "\n",
    "cols = fiji_t2.columns.to_list()\n",
    "cols = cols[-2:] + cols[:-2]\n",
    "fiji_t2 = fiji_t2[cols]\n",
    "fiji_t2.to_csv(\"output/fj_num_visitors_by_origin_20_by_month.csv\",\n",
    "               encoding=\"utf-8\")"
   ]
  }
 ],
 "metadata": {
  "kernelspec": {
   "display_name": "Python 3 (ipykernel)",
   "language": "python",
   "name": "python3"
  },
  "language_info": {
   "codemirror_mode": {
    "name": "ipython",
    "version": 3
   },
   "file_extension": ".py",
   "mimetype": "text/x-python",
   "name": "python",
   "nbconvert_exporter": "python",
   "pygments_lexer": "ipython3",
   "version": "3.9.10"
  }
 },
 "nbformat": 4,
 "nbformat_minor": 5
}
